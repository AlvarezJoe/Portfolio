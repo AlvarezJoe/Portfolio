{
 "cells": [
  {
   "cell_type": "markdown",
   "id": "b3c3b0f0",
   "metadata": {},
   "source": [
    "# Data Drift Simulation Framework\n",
    "\n",
    "This notebook implements comprehensive data drift simulation scenarios for testing model monitoring systems. The framework generates controlled drift conditions to validate monitoring capabilities and establish performance baselines."
   ]
  },
  {
   "cell_type": "code",
   "execution_count": null,
   "id": "0d35bca7",
   "metadata": {},
   "outputs": [],
   "source": [
    "import pandas as pd\n",
    "import numpy as np\n",
    "import sys\n",
    "import os\n",
    "\n",
    "# add src directory to path\n",
    "sys.path.append('../src')\n",
    "\n",
    "from drift_simulation import create_drift_scenario"
   ]
  },
  {
   "cell_type": "markdown",
   "id": "90de02c0",
   "metadata": {},
   "source": [
    "## Baseline Data Loading\n",
    "\n",
    "Load the preprocessed baseline dataset that serves as the reference distribution for drift simulation and comparison analysis."
   ]
  },
  {
   "cell_type": "code",
   "execution_count": null,
   "id": "fd656878",
   "metadata": {},
   "outputs": [],
   "source": [
    "# load processed data\n",
    "baseline_data = pd.read_csv('../data/processed/housing_baseline.csv')\n",
    "print(f\"baseline data shape: {baseline_data.shape}\")\n",
    "baseline_data.head()"
   ]
  },
  {
   "cell_type": "markdown",
   "id": "f493c7e1",
   "metadata": {},
   "source": [
    "## Feature Drift Scenario Generation\n",
    "\n",
    "Create controlled drift scenarios using systematic feature transformations to simulate real-world data distribution changes. These scenarios enable comprehensive testing of monitoring system sensitivity and accuracy."
   ]
  },
  {
   "cell_type": "code",
   "execution_count": null,
   "id": "df0e35ab",
   "metadata": {},
   "outputs": [],
   "source": [
    "# scenario 1: gradual income shift\n",
    "drift_data_1 = create_drift_scenario(\n",
    "    baseline_data, \n",
    "    drift_type='feature_shift',\n",
    "    feature='MedInc',\n",
    "    shift_magnitude=0.5\n",
    ")\n",
    "\n",
    "print(\"original median income:\")\n",
    "print(baseline_data['MedInc'].describe())\n",
    "print(\"\\ndrifted median income:\")\n",
    "print(drift_data_1['MedInc'].describe())"
   ]
  },
  {
   "cell_type": "code",
   "execution_count": null,
   "id": "16cb4a8f",
   "metadata": {},
   "outputs": [],
   "source": [
    "# scenario 2: house age distribution change\n",
    "drift_data_2 = create_drift_scenario(\n",
    "    baseline_data,\n",
    "    drift_type='distribution_change', \n",
    "    feature='HouseAge',\n",
    "    shift_magnitude=0.3\n",
    ")\n",
    "\n",
    "print(\"original house age distribution:\")\n",
    "print(baseline_data['HouseAge'].describe())\n",
    "print(\"\\ndrifted house age distribution:\")\n",
    "print(drift_data_2['HouseAge'].describe())"
   ]
  },
  {
   "cell_type": "markdown",
   "id": "397521c4",
   "metadata": {},
   "source": [
    "## Drift Scenario Persistence\n",
    "\n",
    "Save generated drift scenarios for downstream monitoring analysis and reproducible experimental workflows."
   ]
  },
  {
   "cell_type": "code",
   "execution_count": null,
   "id": "c27fe859",
   "metadata": {},
   "outputs": [],
   "source": [
    "# save drift scenarios\n",
    "drift_data_1.to_csv('../data/processed/housing_drift_scenario_1.csv', index=False)\n",
    "drift_data_2.to_csv('../data/processed/housing_drift_scenario_2.csv', index=False)\n",
    "\n",
    "print(\"drift scenarios saved successfully\")"
   ]
  },
  {
   "cell_type": "markdown",
   "id": "f0d8105d",
   "metadata": {},
   "source": [
    "## Drift Visualization Analysis\n",
    "\n",
    "Generate comparative visualizations to illustrate the magnitude and characteristics of induced drift across different features and target distributions."
   ]
  },
  {
   "cell_type": "code",
   "execution_count": null,
   "id": "96f89984",
   "metadata": {},
   "outputs": [],
   "source": [
    "import matplotlib.pyplot as plt\n",
    "\n",
    "# compare distributions\n",
    "fig, axes = plt.subplots(2, 2, figsize=(12, 8))\n",
    "\n",
    "# median income comparison\n",
    "axes[0,0].hist(baseline_data['MedInc'], alpha=0.7, label='baseline', bins=30)\n",
    "axes[0,0].hist(drift_data_1['MedInc'], alpha=0.7, label='drift scenario 1', bins=30)\n",
    "axes[0,0].set_title('median income distribution')\n",
    "axes[0,0].legend()\n",
    "\n",
    "# house age comparison  \n",
    "axes[0,1].hist(baseline_data['HouseAge'], alpha=0.7, label='baseline', bins=30)\n",
    "axes[0,1].hist(drift_data_2['HouseAge'], alpha=0.7, label='drift scenario 2', bins=30)\n",
    "axes[0,1].set_title('house age distribution')\n",
    "axes[0,1].legend()\n",
    "\n",
    "# target comparison for scenario 1\n",
    "axes[1,0].hist(baseline_data['MedHouseVal'], alpha=0.7, label='baseline target', bins=30)\n",
    "axes[1,0].hist(drift_data_1['MedHouseVal'], alpha=0.7, label='scenario 1 target', bins=30)\n",
    "axes[1,0].set_title('target distribution - scenario 1')\n",
    "axes[1,0].legend()\n",
    "\n",
    "# target comparison for scenario 2\n",
    "axes[1,1].hist(baseline_data['MedHouseVal'], alpha=0.7, label='baseline target', bins=30)\n",
    "axes[1,1].hist(drift_data_2['MedHouseVal'], alpha=0.7, label='scenario 2 target', bins=30)\n",
    "axes[1,1].set_title('target distribution - scenario 2')\n",
    "axes[1,1].legend()\n",
    "\n",
    "plt.tight_layout()\n",
    "plt.show()"
   ]
  }
 ],
 "metadata": {
  "language_info": {
   "name": "python"
  }
 },
 "nbformat": 4,
 "nbformat_minor": 5
}
